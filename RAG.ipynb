{
 "cells": [
  {
   "cell_type": "code",
   "execution_count": 26,
   "id": "406adcb7",
   "metadata": {},
   "outputs": [
    {
     "name": "stdout",
     "output_type": "stream",
     "text": [
      "Note: you may need to restart the kernel to use updated packages.\n"
     ]
    },
    {
     "name": "stderr",
     "output_type": "stream",
     "text": [
      "ERROR: Could not find a version that satisfies the requirement load_index_from_storage (from versions: none)\n",
      "ERROR: No matching distribution found for load_index_from_storage\n"
     ]
    }
   ],
   "source": [
    "pip install load_index_from_storage"
   ]
  },
  {
   "cell_type": "code",
   "execution_count": 1,
   "id": "9b5d3d02",
   "metadata": {},
   "outputs": [],
   "source": [
    "import os\n",
    "from llama_index import VectorStoreIndex, SimpleDirectoryReader\n",
    "with open('openai_api.txt') as f:\n",
    "    openai_api=f.read()\n",
    "# openai_api\n",
    "os.environ[\"OPENAI_API_KEY\"] = openai_api\n",
    "#os.environ[\"OPENAI_API_KEY\"]"
   ]
  },
  {
   "cell_type": "code",
   "execution_count": 2,
   "id": "14b020f5",
   "metadata": {},
   "outputs": [],
   "source": [
    "####### Importing the folder with pdf #######\n",
    "\n",
    "documents=SimpleDirectoryReader(\"data\").load_data()"
   ]
  },
  {
   "cell_type": "code",
   "execution_count": 3,
   "id": "9325ff8a",
   "metadata": {},
   "outputs": [
    {
     "data": {
      "application/vnd.jupyter.widget-view+json": {
       "model_id": "b5b6ebfafe554b0f9c82124736da3b9c",
       "version_major": 2,
       "version_minor": 0
      },
      "text/plain": [
       "Parsing nodes:   0%|          | 0/202 [00:00<?, ?it/s]"
      ]
     },
     "metadata": {},
     "output_type": "display_data"
    },
    {
     "data": {
      "application/vnd.jupyter.widget-view+json": {
       "model_id": "45b9c1d22bdc4f15bcf43569d525dc4a",
       "version_major": 2,
       "version_minor": 0
      },
      "text/plain": [
       "Generating embeddings:   0%|          | 0/197 [00:00<?, ?it/s]"
      ]
     },
     "metadata": {},
     "output_type": "display_data"
    }
   ],
   "source": [
    "############# Converting document to Index  \n",
    "\n",
    "index=VectorStoreIndex.from_documents(documents, show_progress=True)"
   ]
  },
  {
   "cell_type": "code",
   "execution_count": 4,
   "id": "9c78d462",
   "metadata": {},
   "outputs": [
    {
     "data": {
      "text/plain": [
       "<llama_index.query_engine.retriever_query_engine.RetrieverQueryEngine at 0x190f7eaf850>"
      ]
     },
     "execution_count": 4,
     "metadata": {},
     "output_type": "execute_result"
    }
   ],
   "source": [
    "query_engine=index.as_query_engine()\n",
    "query_engine"
   ]
  },
  {
   "cell_type": "code",
   "execution_count": 5,
   "id": "eb3f35b8",
   "metadata": {},
   "outputs": [],
   "source": [
    "response=query_engine.query(\"How many types of conducting material are there?\")"
   ]
  },
  {
   "cell_type": "code",
   "execution_count": 6,
   "id": "bf26ab4a",
   "metadata": {},
   "outputs": [
    {
     "name": "stdout",
     "output_type": "stream",
     "text": [
      "There are two types of conducting materials mentioned in the context: copper and aluminium.\n"
     ]
    }
   ],
   "source": [
    "print(response)"
   ]
  },
  {
   "cell_type": "code",
   "execution_count": 7,
   "id": "97d0b300",
   "metadata": {},
   "outputs": [
    {
     "name": "stdout",
     "output_type": "stream",
     "text": [
      "Maxwell's Loop Current Method, also known as Mesh Analysis, is a method used to determine branch currents and voltages across the elements of a network. In this method, loop currents are taken instead of branch currents, and these loop currents are assumed to flow in the clockwise direction. Branch currents can be found in terms of loop currents, and the sign conventions for the IR drops and battery emfs are the same as for Kirchhoff's law. This method is particularly useful when all the sources in the network are given as voltage sources, and if there is a current source present, it is converted into an equivalent voltage source.\n"
     ]
    }
   ],
   "source": [
    "response2=query_engine.query(\"What is Maxwell's Loop Current Method?\")\n",
    "print(response2)#### Shows the best response"
   ]
  },
  {
   "cell_type": "code",
   "execution_count": 8,
   "id": "2526c247",
   "metadata": {},
   "outputs": [
    {
     "name": "stdout",
     "output_type": "stream",
     "text": [
      "Final Response: Maxwell's Loop Current Method, also known as Mesh\n",
      "Analysis, is a method used to determine branch currents and voltages\n",
      "across the elements of a network. In this method, loop currents are\n",
      "taken instead of branch currents, and these loop currents are assumed\n",
      "to flow in the clockwise direction. Branch currents can be found in\n",
      "terms of loop currents, and the sign conventions for the IR drops and\n",
      "battery emfs are the same as for Kirchhoff's law. This method is\n",
      "particularly useful when all the sources in the network are given as\n",
      "voltage sources, and if there is a current source present, it is\n",
      "converted into an equivalent voltage source.\n"
     ]
    }
   ],
   "source": [
    "from llama_index.response.pprint_utils import pprint_response\n",
    "pprint_response(response2)"
   ]
  },
  {
   "cell_type": "code",
   "execution_count": 9,
   "id": "a245ecb4",
   "metadata": {},
   "outputs": [
    {
     "name": "stdout",
     "output_type": "stream",
     "text": [
      "Final Response: Maxwell's Loop Current Method, also known as Mesh\n",
      "Analysis, is a method used to determine branch currents and voltages\n",
      "across the elements of a network. In this method, loop currents are\n",
      "taken instead of branch currents, and these loop currents are assumed\n",
      "to flow in the clockwise direction. Branch currents can be found in\n",
      "terms of loop currents, and the sign conventions for the IR drops and\n",
      "battery emfs are the same as for Kirchhoff's law. This method is\n",
      "particularly useful when all the sources in the network are given as\n",
      "voltage sources, and if there is a current source present, it is\n",
      "converted into an equivalent voltage source.\n",
      "______________________________________________________________________\n",
      "Source Node 1/2\n",
      "Node ID: 0ec046d5-0074-4757-a59e-87603ce2c94a\n",
      "Similarity: 0.8774012413681515\n",
      "Text: Example :- Write the loop equation for the given circuit be low\n",
      "(Supplementary exam 2004 )  ir1E1 r2 E2 r3E3  Solution:  Apply KVL to\n",
      "the loop,  ( )1 1 2 2 3 3  1 2 3 1 2 3  1 2 3 1 2 3 0 ir E ir E ir E\n",
      "E E E ir ir ir  E E E i r r r − − − + − − =  ⇒ − + = − − −  ⇒ − + = −\n",
      "+ +     1.2.  MAXWELL’S LOOP CURRENT METHOD (MESH ANALYSIS)\n",
      "Statement:...\n",
      "______________________________________________________________________\n",
      "Source Node 2/2\n",
      "Node ID: aba06797-f8ff-4c95-ae3d-e1336f1d980c\n",
      "Similarity: 0.8119856152672786\n",
      "Text: Explanation :-  Consider a network as shown in Fig. below. It\n",
      "conta ins two meshes. Let I 1 and  I2 are the mesh currents of two\n",
      "meshes directed in cl ockwise.    Apply KVL to mesh-1,  ( )1 1 1 1 2 3\n",
      "V -I R - I -I R =0   Apply KVL to mesh-2,  ( )2 2 2 2 1 3 -I R -V - I\n",
      "-I R =0   When we consider mesh-1, the current I 1 is greater than I\n",
      "2. So, c...\n"
     ]
    }
   ],
   "source": [
    "pprint_response(response2, show_source=True)### Shows all the diiferent souces and output\n",
    "###### Final Response is the best possible response"
   ]
  },
  {
   "cell_type": "markdown",
   "id": "f6280a94",
   "metadata": {},
   "source": [
    "# Finding Top K responses"
   ]
  },
  {
   "cell_type": "code",
   "execution_count": 12,
   "id": "b61fe732",
   "metadata": {},
   "outputs": [],
   "source": [
    "from llama_index.retrievers import VectorIndexRetriever\n",
    "from llama_index.query_engine import RetrieverQueryEngine\n",
    "from llama_index.postprocessor import SimilarityPostprocessor"
   ]
  },
  {
   "cell_type": "code",
   "execution_count": 18,
   "id": "19da1eea",
   "metadata": {},
   "outputs": [],
   "source": [
    "retriever=VectorIndexRetriever(index=index,similarity_top_k=3)\n",
    "\n",
    "query_engine=RetrieverQueryEngine(retriever=retriever)"
   ]
  },
  {
   "cell_type": "code",
   "execution_count": 19,
   "id": "6f1ae159",
   "metadata": {},
   "outputs": [
    {
     "name": "stdout",
     "output_type": "stream",
     "text": [
      "There are two types of conducting materials mentioned in the context: copper and aluminium.\n"
     ]
    }
   ],
   "source": [
    "response_1=query_engine.query(\"How many types of conducting material are there?\")\n",
    "print(response_1)"
   ]
  },
  {
   "cell_type": "code",
   "execution_count": 21,
   "id": "86453a08",
   "metadata": {},
   "outputs": [
    {
     "data": {
      "text/plain": [
       "Response(response=\"Maxwell's Loop Current Method is a technique used to determine branch currents and voltages across the elements of a network. In this method, loop currents are taken instead of branch currents, and they are assumed to flow in the clockwise direction. Branch currents can be found in terms of loop currents. The sign conventions for the IR drops and battery emfs are the same as for Kirchhoff's law. This method is easier to apply when all the sources in the network are given as voltage sources. If there is a current source present, it is converted into an equivalent voltage source.\", source_nodes=[NodeWithScore(node=TextNode(id_='0ec046d5-0074-4757-a59e-87603ce2c94a', embedding=None, metadata={'page_label': '4', 'file_name': 'lecture.pdf', 'file_path': 'data\\\\lecture.pdf', 'file_type': 'application/pdf', 'file_size': 8825573, 'creation_date': '2024-01-30', 'last_modified_date': '2024-01-30', 'last_accessed_date': '2024-01-30'}, excluded_embed_metadata_keys=['file_name', 'file_type', 'file_size', 'creation_date', 'last_modified_date', 'last_accessed_date'], excluded_llm_metadata_keys=['file_name', 'file_type', 'file_size', 'creation_date', 'last_modified_date', 'last_accessed_date'], relationships={<NodeRelationship.SOURCE: '1'>: RelatedNodeInfo(node_id='605de8b3-6418-4081-8591-c7d152f96f04', node_type=<ObjectType.DOCUMENT: '4'>, metadata={'page_label': '4', 'file_name': 'lecture.pdf', 'file_path': 'data\\\\lecture.pdf', 'file_type': 'application/pdf', 'file_size': 8825573, 'creation_date': '2024-01-30', 'last_modified_date': '2024-01-30', 'last_accessed_date': '2024-01-30'}, hash='f0433e9fe9624d6e38768b889a533d6ebe58badc825c153b7afe62acebc50ca9'), <NodeRelationship.PREVIOUS: '2'>: RelatedNodeInfo(node_id='14764624-936c-4405-a813-832c15b9b1e2', node_type=<ObjectType.TEXT: '1'>, metadata={'page_label': '3', 'file_name': 'lecture.pdf', 'file_path': 'data\\\\lecture.pdf', 'file_type': 'application/pdf', 'file_size': 8825573, 'creation_date': '2024-01-30', 'last_modified_date': '2024-01-30', 'last_accessed_date': '2024-01-30'}, hash='de04f0f97b1e5966a1b56b45c7e7c8b9721b2789f75cd27ae02f4d1f70ad4b8f'), <NodeRelationship.NEXT: '3'>: RelatedNodeInfo(node_id='aba06797-f8ff-4c95-ae3d-e1336f1d980c', node_type=<ObjectType.TEXT: '1'>, metadata={}, hash='bd409ae32d0dd741ca3f3a4dadd897cffaacd1c30a44f108307fd0f68072e196')}, text='Example :- Write the loop equation for the given circuit be low \\n(Supplementary exam 2004 ) \\nir1E1\\nr2\\nE2\\nr3E3 \\nSolution:  Apply KVL to the loop, \\n( )1 1 2 2 3 3 \\n1 2 3 1 2 3 \\n1 2 3 1 2 3 0 ir E ir E ir E \\nE E E ir ir ir \\nE E E i r r r − − − + − − = \\n⇒ − + = − − − \\n⇒ − + = − + +  \\n \\n1.2.  MAXWELL’S LOOP CURRENT METHOD (MESH ANALYSIS)  \\nStatement:- This method determines branch currents and voltages across the \\nelements of a network. The following process is fol lowed in this method:- \\n• Here, instead of taking branch currents (as in Kirc hoff’s law) loop currents \\nare taken which are assumed to flow in the clockwis e direction. \\n• Branch currents can be found in terms of loop curre nts \\n• Sign conventions for the IR drops and battery emfs are the same as for \\nKirchoff’s law. \\n• This method is easier if all the sources are given as voltage sources. If there \\nis a current source present in a network then conve rt it into equivalent \\nvoltage source.', start_char_idx=5, end_char_idx=964, text_template='{metadata_str}\\n\\n{content}', metadata_template='{key}: {value}', metadata_seperator='\\n'), score=0.8774012413681515), NodeWithScore(node=TextNode(id_='aba06797-f8ff-4c95-ae3d-e1336f1d980c', embedding=None, metadata={'page_label': '5', 'file_name': 'lecture.pdf', 'file_path': 'data\\\\lecture.pdf', 'file_type': 'application/pdf', 'file_size': 8825573, 'creation_date': '2024-01-30', 'last_modified_date': '2024-01-30', 'last_accessed_date': '2024-01-30'}, excluded_embed_metadata_keys=['file_name', 'file_type', 'file_size', 'creation_date', 'last_modified_date', 'last_accessed_date'], excluded_llm_metadata_keys=['file_name', 'file_type', 'file_size', 'creation_date', 'last_modified_date', 'last_accessed_date'], relationships={<NodeRelationship.SOURCE: '1'>: RelatedNodeInfo(node_id='f51d97ac-3f2a-4453-8bf7-f32593fca63d', node_type=<ObjectType.DOCUMENT: '4'>, metadata={'page_label': '5', 'file_name': 'lecture.pdf', 'file_path': 'data\\\\lecture.pdf', 'file_type': 'application/pdf', 'file_size': 8825573, 'creation_date': '2024-01-30', 'last_modified_date': '2024-01-30', 'last_accessed_date': '2024-01-30'}, hash='dc2406fad802988231d1f39ecf07a1278f037604d91f35f66302eaa47b37b346'), <NodeRelationship.PREVIOUS: '2'>: RelatedNodeInfo(node_id='0ec046d5-0074-4757-a59e-87603ce2c94a', node_type=<ObjectType.TEXT: '1'>, metadata={'page_label': '4', 'file_name': 'lecture.pdf', 'file_path': 'data\\\\lecture.pdf', 'file_type': 'application/pdf', 'file_size': 8825573, 'creation_date': '2024-01-30', 'last_modified_date': '2024-01-30', 'last_accessed_date': '2024-01-30'}, hash='8e18f3d84adc119a4a27a5c1501b1fb50af8b0d1ddaf1bae4c462d82f7c052fc'), <NodeRelationship.NEXT: '3'>: RelatedNodeInfo(node_id='c783f44a-406a-417b-826f-018a47148844', node_type=<ObjectType.TEXT: '1'>, metadata={}, hash='f280239e9f99dd3672d8d950c0a615d32cbcd7fc46efe864aefb7dafacbee073')}, text='Explanation :- \\nConsider a network as shown in Fig. below. It conta ins two meshes. Let I 1 and \\nI2 are the mesh currents of two meshes directed in cl ockwise. \\n \\nApply KVL to mesh-1, \\n( )1 1 1 1 2 3 V -I R - I -I R =0  \\nApply KVL to mesh-2, \\n( )2 2 2 2 1 3 -I R -V - I -I R =0  \\nWhen we consider mesh-1, the current I 1 is greater than I 2. So, current through \\nR3 is I 1-I2. Similarly, when we consider mesh-2, the current I 2 is greater than I 1. \\nSo, current through R 3 is I 2 – I 1. \\nExample :  Find I 1, I 2 and I 3 in the network shown in Fig below using loop \\ncurrent method \\n10 V10Ω\\n20Ω20Ω\\n10Ω10Ω\\n10 V40 V\\n50 VA\\nDB\\nCE\\nFG\\nHI1 I2 I3\\n \\nSolution:- For mesh ABCDA,', start_char_idx=5, end_char_idx=674, text_template='{metadata_str}\\n\\n{content}', metadata_template='{key}: {value}', metadata_seperator='\\n'), score=0.8119856152672786), NodeWithScore(node=TextNode(id_='6f55f06f-0454-4759-af84-5c7196b707c2', embedding=None, metadata={'page_label': '56', 'file_name': 'lecture.pdf', 'file_path': 'data\\\\lecture.pdf', 'file_type': 'application/pdf', 'file_size': 8825573, 'creation_date': '2024-01-30', 'last_modified_date': '2024-01-30', 'last_accessed_date': '2024-01-30'}, excluded_embed_metadata_keys=['file_name', 'file_type', 'file_size', 'creation_date', 'last_modified_date', 'last_accessed_date'], excluded_llm_metadata_keys=['file_name', 'file_type', 'file_size', 'creation_date', 'last_modified_date', 'last_accessed_date'], relationships={<NodeRelationship.SOURCE: '1'>: RelatedNodeInfo(node_id='b15d9dbe-93a0-4c6f-a459-3479152e13c5', node_type=<ObjectType.DOCUMENT: '4'>, metadata={'page_label': '56', 'file_name': 'lecture.pdf', 'file_path': 'data\\\\lecture.pdf', 'file_type': 'application/pdf', 'file_size': 8825573, 'creation_date': '2024-01-30', 'last_modified_date': '2024-01-30', 'last_accessed_date': '2024-01-30'}, hash='2ded4e70da3bcc00789edfc12fc98e10992bc371df1831218ae0d5498c8dcffa'), <NodeRelationship.PREVIOUS: '2'>: RelatedNodeInfo(node_id='f54545ae-832a-4fa3-81de-5740717edf14', node_type=<ObjectType.TEXT: '1'>, metadata={'page_label': '55', 'file_name': 'lecture.pdf', 'file_path': 'data\\\\lecture.pdf', 'file_type': 'application/pdf', 'file_size': 8825573, 'creation_date': '2024-01-30', 'last_modified_date': '2024-01-30', 'last_accessed_date': '2024-01-30'}, hash='8f42604d949f917edb6a4b1cef237c845052ee22d3bd287376f1cd30e75181cd'), <NodeRelationship.NEXT: '3'>: RelatedNodeInfo(node_id='d8de20c6-381c-4f69-abfc-a29a156dc1f5', node_type=<ObjectType.TEXT: '1'>, metadata={}, hash='d7b04d5c467d58dcf92ef2a173d117c11255f1056f5e99a2335f6f81161582f7')}, text='When N-turn coil linking a certain amount of magnet ic ﬂux, then the flux linkage  \\nN λ φ =  \\nded t λ⇒ =  \\nThe relation between flux linkage and current is gv en by Li λ= \\nso that the effect of a time-varying current was to  induce a transformer voltage \\nacross an inductor coil, according to the expressio n di v L dt =  \\nLis the self-inductance which measures the voltage i nduced in a circuit by \\nmagnetic field generated by a current flowing in th e same circuit.', start_char_idx=5, end_char_idx=472, text_template='{metadata_str}\\n\\n{content}', metadata_template='{key}: {value}', metadata_seperator='\\n'), score=0.8089034940144714)], metadata={'0ec046d5-0074-4757-a59e-87603ce2c94a': {'page_label': '4', 'file_name': 'lecture.pdf', 'file_path': 'data\\\\lecture.pdf', 'file_type': 'application/pdf', 'file_size': 8825573, 'creation_date': '2024-01-30', 'last_modified_date': '2024-01-30', 'last_accessed_date': '2024-01-30'}, 'aba06797-f8ff-4c95-ae3d-e1336f1d980c': {'page_label': '5', 'file_name': 'lecture.pdf', 'file_path': 'data\\\\lecture.pdf', 'file_type': 'application/pdf', 'file_size': 8825573, 'creation_date': '2024-01-30', 'last_modified_date': '2024-01-30', 'last_accessed_date': '2024-01-30'}, '6f55f06f-0454-4759-af84-5c7196b707c2': {'page_label': '56', 'file_name': 'lecture.pdf', 'file_path': 'data\\\\lecture.pdf', 'file_type': 'application/pdf', 'file_size': 8825573, 'creation_date': '2024-01-30', 'last_modified_date': '2024-01-30', 'last_accessed_date': '2024-01-30'}})"
      ]
     },
     "execution_count": 21,
     "metadata": {},
     "output_type": "execute_result"
    }
   ],
   "source": [
    "response2=query_engine.query(\"What is Maxwell's Loop Current Method?\")\n",
    "response2"
   ]
  },
  {
   "cell_type": "markdown",
   "id": "72b7a1aa",
   "metadata": {},
   "source": [
    "# Similarity Post Processor"
   ]
  },
  {
   "cell_type": "code",
   "execution_count": 25,
   "id": "57f2a99a",
   "metadata": {},
   "outputs": [
    {
     "name": "stdout",
     "output_type": "stream",
     "text": [
      "Maxwell's Loop Current Method is a technique used to determine branch currents and voltages across the elements of a network. In this method, loop currents are taken instead of branch currents, and they are assumed to flow in the clockwise direction. Branch currents can be found in terms of loop currents, and the sign conventions for the IR drops and battery emfs are the same as for Kirchhoff's law. This method is particularly useful when all the sources in the network are given as voltage sources, and if there is a current source present, it can be converted into an equivalent voltage source.\n"
     ]
    }
   ],
   "source": [
    "postprocessor=SimilarityPostprocessor(similarity_cutoff=0.8)\n",
    "#, node_postprocessor=postprocessor\n",
    "query_engine=RetrieverQueryEngine(retriever=retriever, node_postprocessors=[postprocessor])\n",
    "response2=query_engine.query(\"What is Maxwell's Loop Current Method?\")\n",
    "print(response2)"
   ]
  },
  {
   "cell_type": "markdown",
   "id": "60925cc1",
   "metadata": {},
   "source": [
    "# Creating Storage in Hard Disk"
   ]
  },
  {
   "cell_type": "code",
   "execution_count": 28,
   "id": "ac21f9fe",
   "metadata": {},
   "outputs": [],
   "source": [
    "from llama_index import load_index_from_storage"
   ]
  },
  {
   "cell_type": "code",
   "execution_count": 29,
   "id": "5e5177ec",
   "metadata": {},
   "outputs": [
    {
     "name": "stdout",
     "output_type": "stream",
     "text": [
      "Maxwell's Loop Current Method, also known as Mesh Analysis, is a method used to determine branch currents and voltages across the elements of a network. In this method, loop currents are used instead of branch currents, and these loop currents are assumed to flow in the clockwise direction. By applying Kirchhoff's Voltage Law (KVL) to each loop, the branch currents can be found in terms of the loop currents. The sign conventions for the voltage drops and battery electromotive forces (emfs) are the same as in Kirchhoff's law. This method is particularly useful when all the sources in the network are given as voltage sources, and if there is a current source present, it can be converted into an equivalent voltage source.\n"
     ]
    }
   ],
   "source": [
    "PERSIT_DIR=\"./storage\"\n",
    "if not os.path.exists(PERSIT_DIR):\n",
    "    #####load the documents and create the index\n",
    "    documents=SimpleDirectoryReader(\"data\").load_data()\n",
    "    index=VectorStoreIndex.from_documents(documents)\n",
    "    ######### store it for later\n",
    "    index.storage_context.persist(persist_dir=PERSIT_DIR)\n",
    "else:\n",
    "    ####load the existing index\n",
    "    storage_context=StorageContext.from_defaults(persist_dir=PERSIT_DIR)\n",
    "    index=load_index_from_storage(storage_context)\n",
    "query_engine=index.as_query_engine()\n",
    "response=query_engine.query(\"What is Maxwell's Loop Current Method?\")\n",
    "print(response)"
   ]
  },
  {
   "cell_type": "code",
   "execution_count": null,
   "id": "3b73ac63",
   "metadata": {},
   "outputs": [],
   "source": []
  }
 ],
 "metadata": {
  "kernelspec": {
   "display_name": "Python 3 (ipykernel)",
   "language": "python",
   "name": "python3"
  },
  "language_info": {
   "codemirror_mode": {
    "name": "ipython",
    "version": 3
   },
   "file_extension": ".py",
   "mimetype": "text/x-python",
   "name": "python",
   "nbconvert_exporter": "python",
   "pygments_lexer": "ipython3",
   "version": "3.11.5"
  }
 },
 "nbformat": 4,
 "nbformat_minor": 5
}
